{
 "cells": [
  {
   "cell_type": "code",
   "execution_count": null,
   "metadata": {
    "collapsed": true
   },
   "outputs": [],
   "source": [
    "import cv2\n",
    "import random\n",
    "import os\n",
    "\n",
    "import numpy as np\n",
    "import matplotlib.pyplot as plt\n",
    "\n",
    "from keras.layers import Dense, Flatten, Input, Lambda, Dropout, Conv2D, MaxPool2D\n",
    "from keras.models import Sequential, Model\n",
    "from keras.optimizers import SGD\n",
    "from keras.regularizers import l2, l1\n",
    "import keras.backend as K\n",
    "\n",
    "import warnings\n",
    "warnings.simplefilter('ignore')"
   ]
  },
  {
   "cell_type": "code",
   "execution_count": null,
   "metadata": {
    "collapsed": true
   },
   "outputs": [],
   "source": [
    "def read_batch_imgs(current_person):\n",
    "    imgs = []\n",
    "    for j in range(1, 11):\n",
    "        img = cv2.resize(cv2.imread('processed_images/s{}/{}.png'.format(current_person, j), cv2.IMREAD_GRAYSCALE),\n",
    "                         (105, 105))\n",
    "        imgs += [[img]]\n",
    "    \n",
    "    return imgs # Returns the original images without any normalization.\n",
    "\n",
    "def generate_images():\n",
    "    train_x = []\n",
    "    for i in range(1, 41):\n",
    "        imgs = read_batch_imgs(i)\n",
    "        imgs = np.array(imgs).astype('float32') / 255\n",
    "        train_x.append(imgs)\n",
    "    return train_x\n",
    "  \n",
    "train_x = generate_images()"
   ]
  },
  {
   "cell_type": "code",
   "execution_count": null,
   "metadata": {
    "collapsed": true
   },
   "outputs": [],
   "source": [
    "pairs = []\n",
    "labels = []\n",
    "\n",
    "for n in range(40):\n",
    "    for i in range(9):\n",
    "        img1, img2 = train_x[n][i], train_x[n][i + 1]\n",
    "        pairs += [[img1, img2]]\n",
    "        inc = random.randrange(1, 40) \n",
    "        dn = (n + inc) % 40\n",
    "        pairs += [[train_x[n][i], train_x[dn][i] ]]\n",
    "        labels += [1, 0]\n",
    "\n",
    "pairs = np.array(pairs)\n",
    "labels = np.array(labels)"
   ]
  },
  {
   "cell_type": "code",
   "execution_count": null,
   "metadata": {
    "collapsed": true
   },
   "outputs": [],
   "source": [
    "print(\"Pairs shape : \", pairs.shape)\n",
    "print(\"Labels shape : \", labels.shape)"
   ]
  },
  {
   "cell_type": "code",
   "execution_count": null,
   "metadata": {
    "collapsed": true
   },
   "outputs": [],
   "source": [
    "def euclidean_distance(vects):\n",
    "    x, y = vects\n",
    "    return K.sqrt(K.maximum(K.sum(K.square(x - y), axis=1, keepdims=True), K.epsilon()))\n",
    "\n",
    "# Bu fonksiyonu modelimizin üreteceği çıktının boyutunu belirlemek için kullanacağız.\n",
    "def eucl_dist_output_shape(shapes):\n",
    "    shape1, shape2 = shapes\n",
    "    return (shape1[0], 1)"
   ]
  },
  {
   "cell_type": "code",
   "execution_count": null,
   "metadata": {
    "collapsed": true
   },
   "outputs": [],
   "source": [
    "def contrastive_loss(y_true, y_pred):\n",
    "    margin = 1\n",
    "    return K.mean(y_true * K.square(y_pred) + (1 - y_true) * K.square(K.maximum(margin - y_pred, 0) ))"
   ]
  },
  {
   "cell_type": "code",
   "execution_count": null,
   "metadata": {
    "collapsed": true
   },
   "outputs": [],
   "source": [
    "def accuracy(y_true, y_pred):\n",
    "    return K.mean(K.equal(y_true, K.cast(y_pred < 0.3, y_true.dtype)))\n",
    "  \n",
    "# Modelimizin eğitim ve test verisi üzerinde nasıl çalıştığını görebilmek için.\n",
    "def compute_accuracy(y_true, y_pred):\n",
    "    pred = y_pred.ravel() < 0.3\n",
    "    return np.mean(pred == y_true)"
   ]
  },
  {
   "cell_type": "code",
   "execution_count": null,
   "metadata": {
    "collapsed": true
   },
   "outputs": [],
   "source": [
    "input_shape = (1, 105, 105)\n",
    "\n",
    "def base_model_cnn(input_shape):\n",
    "    inp = Input(shape=input_shape)\n",
    "     \n",
    "    x = Conv2D(64, (10, 10), activation='relu', data_format='channels_first')(inp)\n",
    "    x = MaxPool2D()(x)\n",
    "    x = Dropout(0.25)(x)\n",
    "    \n",
    "    x = Conv2D(128, (7, 7), activation='relu')(x)\n",
    "    x = MaxPool2D()(x)\n",
    "    x = Dropout(0.25)(x)\n",
    "    \n",
    "    x = Conv2D(256, (4, 4), activation='relu')(x)\n",
    "    x = MaxPool2D()(x)\n",
    "    x = Dropout(0.25)(x)\n",
    "    \n",
    "    x = Conv2D(512, (4, 4), activation='relu')(x)\n",
    "    x = Flatten()(x)\n",
    "    \n",
    "    x = Dense(4096, activation='sigmoid')(x)\n",
    "    \n",
    "    return Model(inp, x)"
   ]
  },
  {
   "cell_type": "code",
   "execution_count": null,
   "metadata": {
    "collapsed": true
   },
   "outputs": [],
   "source": [
    "input_a = Input(shape=input_shape)\n",
    "input_b = Input(shape=input_shape)\n",
    "\n",
    "base = base_model_cnn(input_shape)\n",
    "\n",
    "processed_a = base(input_a)\n",
    "processed_b = base(input_b)\n",
    "\n",
    "distance = Lambda(euclidean_distance, output_shape=eucl_dist_output_shape)([processed_a, processed_b])\n",
    "model = Model([input_a, input_b], distance)"
   ]
  },
  {
   "cell_type": "code",
   "execution_count": null,
   "metadata": {
    "collapsed": true
   },
   "outputs": [],
   "source": [
    "model.compile(optimizer='adam', loss=contrastive_loss, metrics=[accuracy])\n",
    "model.summary()"
   ]
  },
  {
   "cell_type": "code",
   "execution_count": null,
   "metadata": {
    "collapsed": true
   },
   "outputs": [],
   "source": [
    "from sklearn.model_selection import train_test_split\n",
    "\n",
    "train_x, test_x, train_y, test_y = train_test_split(pairs, labels, test_size=0.2, random_state=42)"
   ]
  },
  {
   "cell_type": "code",
   "execution_count": null,
   "metadata": {
    "collapsed": true
   },
   "outputs": [],
   "source": [
    "history = model.fit([train_x[:, 0], train_x[:, 1]], train_y, epochs=40, batch_size=64, validation_split=0.2)"
   ]
  },
  {
   "cell_type": "code",
   "execution_count": null,
   "metadata": {
    "collapsed": true
   },
   "outputs": [],
   "source": [
    "preds = model.predict([train_x[:, 0], train_x[:, 1]])\n",
    "acc = compute_accuracy(train_y, preds)\n",
    "print(\"Train accuracy : \", acc)\n",
    "\n",
    "preds = model.predict([test_x[:, 0], test_x[:, 1]])\n",
    "acc = compute_accuracy(test_y, preds)\n",
    "print(\"Test accuracy : \", acc)"
   ]
  },
  {
   "cell_type": "code",
   "execution_count": null,
   "metadata": {
    "collapsed": true
   },
   "outputs": [],
   "source": [
    "model.save_weights('model_weights.h5')"
   ]
  }
 ],
 "metadata": {
  "kernelspec": {
   "display_name": "Python 3",
   "language": "python",
   "name": "python3"
  },
  "language_info": {
   "codemirror_mode": {
    "name": "ipython",
    "version": 3
   },
   "file_extension": ".py",
   "mimetype": "text/x-python",
   "name": "python",
   "nbconvert_exporter": "python",
   "pygments_lexer": "ipython3",
   "version": "3.5.2"
  }
 },
 "nbformat": 4,
 "nbformat_minor": 2
}
